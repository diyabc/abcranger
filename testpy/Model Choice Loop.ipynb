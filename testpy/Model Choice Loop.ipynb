{
 "cells": [
  {
   "cell_type": "code",
   "execution_count": 1,
   "metadata": {},
   "outputs": [],
   "source": [
    "from scipy.ndimage.filters import gaussian_filter1d\n",
    "import pandas as pd\n",
    "import seaborn as sn\n",
    "import sys\n",
    "sys.path.insert(0, '../build')\n",
    "\n",
    "import pyabcranger\n",
    "import sys\n",
    "import elfi\n",
    "import matplotlib.pyplot as plt\n",
    "from statsmodels.tsa.stattools import acf, pacf\n",
    "import math\n",
    "import numpy as np\n",
    "\n",
    "\n",
    "def MAq(t, n_obs=10000, batch_size=1, random_state=None):\n",
    "    # Make inputs 2d arrays for numpy broadcasting with w\n",
    "    s = t.shape[1]\n",
    "    assert t.shape[0] == batch_size\n",
    "    random_state = random_state or np.random\n",
    "    w = random_state.randn(batch_size, n_obs+s)  # i.i.d. sequence ~ N(0,1)\n",
    "    x = w[:, s:]\n",
    "    for p in range(s):\n",
    "        x = x + np.repeat(np.reshape(t[:, p], (batch_size, 1)),\n",
    "                          n_obs, axis=1)*w[:, (s-p-1):(-p-1)]\n",
    "    return x\n",
    "\n",
    "def generate_maq_priors(q, tq , batch_size=1, random_state=None):\n",
    "    assert tq.shape[0] == batch_size\n",
    "    d = q // 2\n",
    "    if (q % 2) == 0:\n",
    "        d = d - 1\n",
    "    random_state = random_state or np.random\n",
    "    nc = random_state.randint(q, size=batch_size)\n",
    "    nd = random_state.randint(d, size=batch_size)\n",
    "    #r = np.random.uniform(min, max, (batch_size, 1))\n",
    "    genr = np.exp(random_state.dirichlet(\n",
    "        np.ones(q), batch_size)*np.log(np.abs(1/tq[:,np.newaxis])))\n",
    "    # genr = genr * randSign(q,(r <= 0),batch_size)\n",
    "    genr[:, -1] = -genr[:, -1]\n",
    "    alphas = np.zeros((batch_size, q))\n",
    "    for i in range(batch_size):\n",
    "        gen = random_state.uniform(0, math.pi, nd[i])\n",
    "        d2 = (q - (2*nd[i])) // 2\n",
    "        if (q % 2) == 0:\n",
    "            d2 = d2 - 1\n",
    "        nq = random_state.randint(d2)\n",
    "        alphas[i, :nd[i]] = gen\n",
    "        alphas[i, nd[i]:(2*nd[i])] = -gen\n",
    "        alphas[i, -(2*nq+1):] = -1\n",
    "    roots = np.zeros((batch_size, q), dtype=complex)\n",
    "    roots.real = np.cos(alphas)\n",
    "    roots.imag = np.sin(alphas)\n",
    "    if (q % 2) != 0:\n",
    "        roots[:, nc] = -roots[:, nc]\n",
    "    roots = roots / genr\n",
    "    assert np.min(np.abs(roots)) > 1, str(roots)  # Prior constraint checking\n",
    "    poly = np.apply_along_axis(\n",
    "        np.polynomial.polynomial.polyfromroots, 1, roots).real[:, 1:]\n",
    "    return poly * np.reshape(tq, (batch_size, 1))\n",
    "\n",
    "Ncovmult=4\n",
    "\n",
    "def pautocorr(x, to=1):\n",
    "    C = np.zeros((x.shape[0], to*Ncovmult))\n",
    "    for i in range(x.shape[0]):\n",
    "        C[i, 0::Ncovmult] = acf(x[i][1:], True, nlags=to, fft=True)[1:]\n",
    "        res = pacf(x[i][1:], nlags=to, method='ols', alpha=0.05)\n",
    "        C[i, 1::Ncovmult] = res[0][1:]\n",
    "        C[i, 2::Ncovmult] = res[1][1:, 0]\n",
    "        C[i, 3::Ncovmult] = res[1][1:, 1]\n",
    "    return C\n",
    "\n",
    "class ClassPrior(elfi.Distribution):\n",
    "    def rvs(n, size=1, random_state=None):\n",
    "        random_state = random_state or np.random\n",
    "        return random_state.choice(n,size,p=np.arange(n,0,-1)/(n*(n+1)/2))\n",
    "        \n",
    "class GlobalPrior(elfi.Distribution):\n",
    "    def rvs(qp, tq, qpriors, size=1, random_state=None):\n",
    "        class_count = np.zeros(qpriors.shape[0], dtype='int')\n",
    "        res = np.zeros((size[0], maxt))\n",
    "        for q in range(qpriors.shape[0]):\n",
    "            qr = qpriors[q]\n",
    "            class_count[q] = np.sum(qp == q)\n",
    "            if (class_count[q] > 0):\n",
    "                res[qp == q, :qr] = generate_maq_priors(\n",
    "                    qr, tq[qp == q], class_count[q],random_state)\n",
    "        return res\n",
    "    \n",
    "def listvar(prefix, s):\n",
    "    return [prefix+str(i) for i in range(1, s+1)]\n",
    "\n",
    "def listvarautocorr(s):\n",
    "    arr = []\n",
    "    for i in range(1, s//Ncovmult+1):\n",
    "        arr.append(\"acf\"+str(i))\n",
    "        arr.append(\"pacf\"+str(i))\n",
    "        arr.append(\"pacfq1_\"+str(i))\n",
    "        arr.append(\"pacfq2_\"+str(i))\n",
    "    return arr"
   ]
  },
  {
   "cell_type": "code",
   "execution_count": 2,
   "metadata": {},
   "outputs": [],
   "source": [
    "minprior = 1\n",
    "maxprior = 2\n",
    "ntree = 500\n",
    "Ny = 200  # Length of the serie\n",
    "Ncov = 20  # Maximum of autocorrelation lag\n",
    "q = 10  # Our chosen q for the observed data\n",
    "nref = 2000  # Number of expected simulated data from ABC\n",
    "batchsize = 100\n",
    "\n",
    "#qpriors = np.array([6,7,8,9,10,11,12,13,14,15,16])\n",
    "qpriors = np.arange(6,17,dtype=np.int)\n",
    "nclasses = qpriors.shape[0]\n",
    "maxt = np.max(qpriors)"
   ]
  },
  {
   "cell_type": "code",
   "execution_count": 3,
   "metadata": {},
   "outputs": [],
   "source": [
    "tq = elfi.Prior('uniform',1,1)\n",
    "qp = elfi.Prior(ClassPrior, nclasses)\n",
    "t  = elfi.Prior(GlobalPrior, qp, tq, qpriors)\n",
    "\n",
    "Y = elfi.Simulator(MAq, t)\n",
    "S = elfi.Summary(pautocorr, Y, Ncov)\n",
    "d = elfi.Distance('euclidean', S)\n",
    "\n",
    "elfi.set_client('multiprocessing')\n",
    "rej = elfi.Rejection(d, batch_size=batchsize, output_names=['S'])"
   ]
  },
  {
   "cell_type": "code",
   "execution_count": 4,
   "metadata": {},
   "outputs": [
    {
     "data": {
      "application/vnd.jupyter.widget-view+json": {
       "model_id": "8b198e9ab1d14ef09a0f4485b645ab31",
       "version_major": 2,
       "version_minor": 0
      },
      "text/plain": [
       "HBox(children=(FloatProgress(value=0.0), HTML(value='')))"
      ]
     },
     "metadata": {},
     "output_type": "display_data"
    },
    {
     "name": "stdout",
     "output_type": "stream",
     "text": [
      "\n"
     ]
    }
   ],
   "source": [
    "from tqdm.notebook import tqdm, trange\n",
    "predicted = []\n",
    "postproba = []\n",
    "\n",
    "\n",
    "with trange(100) as tr:\n",
    "    for k in tr:\n",
    "        # Generation of the observed data\n",
    "        modsimple = generate_maq_priors(q, np.random.uniform(low=1.0,high=2.0,size=(1)))\n",
    "        y_obs = MAq(modsimple, Ny)\n",
    "\n",
    "        Y.become(elfi.Simulator(MAq,t,observed=y_obs))\n",
    "        result = rej.sample(nref, quantile=1.0,bar=False)\n",
    "\n",
    "        rf = pyabcranger.reftable(\n",
    "            nref,\n",
    "            [np.sum(result.samples['qp'] == i) for i in range(nclasses)],\n",
    "            qpriors,\n",
    "            listvar('t', maxt),\n",
    "            listvarautocorr(result.outputs['S'].shape[1]),\n",
    "            result.outputs['S'],\n",
    "            result.samples['t'],\n",
    "            result.samples['qp']+1\n",
    "        )\n",
    "\n",
    "        postres = pyabcranger.modelchoice(\n",
    "            rf, S.observed[0], \"--ntree \"+str(ntree), True)\n",
    "\n",
    "        tr.set_postfix(model=qpriors[postres.predicted_model])\n",
    "        predicted.append(qpriors[postres.predicted_model])\n",
    "        postproba.append(postres.post_proba)"
   ]
  },
  {
   "cell_type": "code",
   "execution_count": 5,
   "metadata": {
    "scrolled": true
   },
   "outputs": [
    {
     "data": {
      "image/png": "[encoded data removed]",
      "text/plain": [
       "<Figure size 432x288 with 1 Axes>"
      ]
     },
     "metadata": {
      "needs_background": "light"
     },
     "output_type": "display_data"
    }
   ],
   "source": [
    "plt.figure()\n",
    "plt.hist(predicted,np.arange(6,18),weights=postproba,align='left')\n",
    "plt.xticks(np.arange(6,17))\n",
    "plt.xlabel(\"chosen $q$ for $Ma(q)$\")\n",
    "plt.ylabel(\"weighted by posterior probabilities\")\n",
    "plt.savefig(\"modelchoice-loop.svg\",format=\"svg\");"
   ]
  }
 ],
 "metadata": {
  "kernelspec": {
   "display_name": "Python [conda env:.conda-abcranger]",
   "language": "python",
   "name": "conda-env-.conda-abcranger-py"
  },
  "language_info": {
   "codemirror_mode": {
    "name": "ipython",
    "version": 3
   },
   "file_extension": ".py",
   "mimetype": "text/x-python",
   "name": "python",
   "nbconvert_exporter": "python",
   "pygments_lexer": "ipython3",
   "version": "3.8.5"
  },
  "latex_envs": {
   "LaTeX_envs_menu_present": true,
   "autoclose": false,
   "autocomplete": true,
   "bibliofile": "biblio.bib",
   "cite_by": "apalike",
   "current_citInitial": 1,
   "eqLabelWithNumbers": true,
   "eqNumInitial": 1,
   "hotkeys": {
    "equation": "Ctrl-E",
    "itemize": "Ctrl-I"
   },
   "labels_anchors": false,
   "latex_user_defs": false,
   "report_style_numbering": false,
   "user_envs_cfg": false
  },
  "toc": {
   "base_numbering": 1,
   "nav_menu": {},
   "number_sections": true,
   "sideBar": true,
   "skip_h1_title": false,
   "title_cell": "Table of Contents",
   "title_sidebar": "Contents",
   "toc_cell": false,
   "toc_position": {},
   "toc_section_display": true,
   "toc_window_display": false
  },
  "varInspector": {
   "cols": {
    "lenName": 16,
    "lenType": 16,
    "lenVar": 40
   },
   "kernels_config": {
    "python": {
     "delete_cmd_postfix": "",
     "delete_cmd_prefix": "del ",
     "library": "var_list.py",
     "varRefreshCmd": "print(var_dic_list())"
    },
    "r": {
     "delete_cmd_postfix": ") ",
     "delete_cmd_prefix": "rm(",
     "library": "var_list.r",
     "varRefreshCmd": "cat(var_dic_list()) "
    }
   },
   "types_to_exclude": [
    "module",
    "function",
    "builtin_function_or_method",
    "instance",
    "_Feature"
   ],
   "window_display": false
  }
 },
 "nbformat": 4,
 "nbformat_minor": 4
}
